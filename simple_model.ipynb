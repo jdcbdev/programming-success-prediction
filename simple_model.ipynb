{
 "cells": [
  {
   "cell_type": "code",
   "execution_count": 1,
   "id": "15eac188",
   "metadata": {},
   "outputs": [],
   "source": [
    "import pandas as pd\n",
    "from sklearn.model_selection import train_test_split\n",
    "from sklearn.svm import SVC\n",
    "from sklearn.tree import DecisionTreeClassifier\n",
    "from sklearn.neural_network import MLPClassifier\n",
    "from sklearn.metrics import classification_report, roc_auc_score\n",
    "from sklearn.inspection import permutation_importance\n",
    "\n",
    "# Load the dataset\n",
    "data = pd.read_csv('./data/augmented_data.csv')\n",
    "\n",
    "# Separate the features and the target variable\n",
    "X = data.drop('success', axis=1)\n",
    "y = data['success']"
   ]
  },
  {
   "cell_type": "code",
   "execution_count": 2,
   "id": "e4dfe810",
   "metadata": {},
   "outputs": [
    {
     "name": "stdout",
     "output_type": "stream",
     "text": [
      "Evaluation Metrics:\n",
      "            Model  Accuracy  F1-Score  Precision    Recall       AUC\n",
      "0             SVM  0.803030  0.802178   0.802968  0.801759  0.801759\n",
      "1   Decision Tree  0.772727  0.772582   0.772727  0.773425  0.773425\n",
      "2  Neural Network  0.919192  0.919060   0.918811  0.919497  0.919497\n"
     ]
    },
    {
     "name": "stderr",
     "output_type": "stream",
     "text": [
      "C:\\Users\\Jaydee\\anaconda3\\lib\\site-packages\\sklearn\\neural_network\\_multilayer_perceptron.py:614: ConvergenceWarning: Stochastic Optimizer: Maximum iterations (200) reached and the optimization hasn't converged yet.\n",
      "  warnings.warn(\n"
     ]
    }
   ],
   "source": [
    "# Split the dataset into training and testing sets\n",
    "X_train, X_test, y_train, y_test = train_test_split(X, y, test_size=0.2, random_state=42)\n",
    "\n",
    "# Support Vector Machine (SVM) model\n",
    "svm_model = SVC(kernel='linear')\n",
    "svm_model.fit(X_train, y_train)\n",
    "svm_predictions = svm_model.predict(X_test)\n",
    "\n",
    "# Decision Tree (DT) model\n",
    "dt_model = DecisionTreeClassifier()\n",
    "dt_model.fit(X_train, y_train)\n",
    "dt_predictions = dt_model.predict(X_test)\n",
    "\n",
    "# Neural Network (NN) model\n",
    "nn_model = MLPClassifier()\n",
    "nn_model.fit(X_train, y_train)\n",
    "nn_predictions = nn_model.predict(X_test)\n",
    "\n",
    "# Calculate evaluation metrics\n",
    "svm_report = classification_report(y_test, svm_predictions, output_dict=True)\n",
    "svm_auc = roc_auc_score(y_test, svm_predictions)\n",
    "\n",
    "dt_report = classification_report(y_test, dt_predictions, output_dict=True)\n",
    "dt_auc = roc_auc_score(y_test, dt_predictions)\n",
    "\n",
    "nn_report = classification_report(y_test, nn_predictions, output_dict=True)\n",
    "nn_auc = roc_auc_score(y_test, nn_predictions)\n",
    "\n",
    "# Create a DataFrame for the results\n",
    "results_df = pd.DataFrame({\n",
    "    'Model': ['SVM', 'Decision Tree', 'Neural Network'],\n",
    "    'Accuracy': [svm_model.score(X_test, y_test), dt_model.score(X_test, y_test), nn_model.score(X_test, y_test)],\n",
    "    'F1-Score': [svm_report['macro avg']['f1-score'], dt_report['macro avg']['f1-score'], nn_report['macro avg']['f1-score']],\n",
    "    'Precision': [svm_report['macro avg']['precision'], dt_report['macro avg']['precision'], nn_report['macro avg']['precision']],\n",
    "    'Recall': [svm_report['macro avg']['recall'], dt_report['macro avg']['recall'], nn_report['macro avg']['recall']],\n",
    "    'AUC': [svm_auc, dt_auc, nn_auc]\n",
    "})\n",
    "\n",
    "# Print the results\n",
    "print(\"Evaluation Metrics:\")\n",
    "print(results_df)"
   ]
  },
  {
   "cell_type": "code",
   "execution_count": 3,
   "id": "65005838",
   "metadata": {},
   "outputs": [
    {
     "name": "stdout",
     "output_type": "stream",
     "text": [
      "DT Top 10 Feature Importances:\n",
      "                                               Feature  Importance\n",
      "6                                              shs_gpa    0.089607\n",
      "65                                                 s19    0.063435\n",
      "5                                             abstract    0.053482\n",
      "27                                                 p21    0.047427\n",
      "162  internet_Pre-paid plan(Limited Data Subscription)    0.043004\n",
      "154                          income_P10,000 to P20,000    0.040804\n",
      "4                                         quantitative    0.039339\n",
      "31                                                 p25    0.038457\n",
      "50                                                  s4    0.036300\n",
      "11                                                  p5    0.029478\n"
     ]
    }
   ],
   "source": [
    "# Create a DataFrame for feature importances\n",
    "importances_df = pd.DataFrame({\n",
    "    'Feature': X_train.columns,\n",
    "    'Importance': dt_model.feature_importances_\n",
    "})\n",
    "\n",
    "# Sort the DataFrame by importance values in descending order\n",
    "importances_df = importances_df.sort_values(by='Importance', ascending=False)\n",
    "\n",
    "# Display the top 10 feature importances\n",
    "top_10_importances = importances_df.head(10)\n",
    "print(\"DT Top 10 Feature Importances:\")\n",
    "print(top_10_importances)"
   ]
  },
  {
   "cell_type": "code",
   "execution_count": 4,
   "id": "d9b096a9",
   "metadata": {},
   "outputs": [
    {
     "name": "stdout",
     "output_type": "stream",
     "text": [
      "Top 10 Feature Importances (SVM Linear):\n",
      "                                               Feature  SVM Importance\n",
      "110      school_org_Vice President (Internal/External)        1.817592\n",
      "123  fathers_education_Trade/technical/vocational t...        1.776698\n",
      "138  mothers_education_Not Applicable (no work, not...        1.524812\n",
      "141   mothers_education_Some college credit, no degree        1.392347\n",
      "71                         program_BS Computer Science        1.365997\n",
      "106                               school_org_President        1.359716\n",
      "173                          s26_More than 4 hours/day        1.351835\n",
      "109                                 school_org_Senator        1.344618\n",
      "87                       academic_awards_Highest Honor        1.288407\n",
      "147  mothers_employment_Not Applicable (no work, no...        1.156073\n"
     ]
    }
   ],
   "source": [
    "# Obtain feature importances for linear SVM model\n",
    "svm_feature_importances = abs(svm_model.coef_[0])\n",
    "\n",
    "# Create a DataFrame for feature importances\n",
    "importances_df = pd.DataFrame({\n",
    "    'Feature': X_train.columns,\n",
    "    'SVM Importance': svm_feature_importances\n",
    "})\n",
    "\n",
    "# Sort the DataFrame by SVM Importance values in descending order\n",
    "importances_df = importances_df.sort_values(by='SVM Importance', ascending=False)\n",
    "\n",
    "# Display the top 10 feature importances\n",
    "top_10_importances = importances_df.head(10)\n",
    "print(\"Top 10 Feature Importances (SVM Linear):\")\n",
    "print(top_10_importances)"
   ]
  },
  {
   "cell_type": "code",
   "execution_count": 5,
   "id": "8eb64aed",
   "metadata": {},
   "outputs": [
    {
     "name": "stdout",
     "output_type": "stream",
     "text": [
      "Top 10 Feature Importances (Neural Network):\n",
      "                 Feature  NN Importance\n",
      "44                   p38       0.025902\n",
      "9                     p3       0.020949\n",
      "6                shs_gpa       0.018655\n",
      "41                   p35       0.018529\n",
      "30                   p24       0.018404\n",
      "42                   p36       0.018104\n",
      "91  classroom_org_Escort       0.016417\n",
      "53                    s7       0.015873\n",
      "60                   s14       0.015447\n",
      "75        strand_ABM/BAM       0.015161\n"
     ]
    }
   ],
   "source": [
    "# Obtain feature importances for Neural Network model\n",
    "nn_feature_importances = abs(nn_model.coefs_[0].mean(axis=0))\n",
    "\n",
    "# Create a DataFrame for feature importances\n",
    "importances_df = pd.DataFrame({\n",
    "    'Feature': X_train.columns[:len(nn_feature_importances)],\n",
    "    'NN Importance': nn_feature_importances\n",
    "})\n",
    "\n",
    "# Sort the DataFrame by NN Importance values in descending order\n",
    "importances_df = importances_df.sort_values(by='NN Importance', ascending=False)\n",
    "\n",
    "# Display the top 10 feature importances\n",
    "top_10_importances = importances_df.head(10)\n",
    "print(\"Top 10 Feature Importances (Neural Network):\")\n",
    "print(top_10_importances)"
   ]
  },
  {
   "cell_type": "code",
   "execution_count": 6,
   "id": "878391b8",
   "metadata": {},
   "outputs": [],
   "source": [
    "# Load the test dataset\n",
    "new_data = pd.read_csv('./data/testing.csv')\n",
    "\n",
    "# Separate the features\n",
    "X_new = new_data.drop('success', axis=1)\n",
    "y_true = new_data['success']\n",
    "\n",
    "# Predict using the SVM model\n",
    "svm_predictions = svm_model.predict(X_new)\n",
    "\n",
    "# Predict using the Decision Tree model\n",
    "dt_predictions = dt_model.predict(X_new)\n",
    "\n",
    "# Predict using the Neural Network model\n",
    "nn_predictions = nn_model.predict(X_new)"
   ]
  },
  {
   "cell_type": "code",
   "execution_count": 7,
   "id": "0fbcd8b2",
   "metadata": {},
   "outputs": [
    {
     "name": "stdout",
     "output_type": "stream",
     "text": [
      "Comparison Table:\n",
      "   SVM Predictions  DT Predictions  NN Predictions  Actual  SVM Correct  \\\n",
      "0                1               0               1       1         True   \n",
      "1                0               0               0       0         True   \n",
      "2                0               0               0       0         True   \n",
      "3                1               1               1       1         True   \n",
      "4                0               0               0       0         True   \n",
      "5                1               1               1       1         True   \n",
      "6                0               0               0       0         True   \n",
      "7                1               1               1       1         True   \n",
      "8                1               1               0       0        False   \n",
      "9                1               1               1       1         True   \n",
      "\n",
      "   DT Correct  NN Correct  \n",
      "0       False        True  \n",
      "1        True        True  \n",
      "2        True        True  \n",
      "3        True        True  \n",
      "4        True        True  \n",
      "5        True        True  \n",
      "6        True        True  \n",
      "7        True        True  \n",
      "8       False        True  \n",
      "9        True        True  \n",
      "\n",
      "Accuracy:\n",
      "SVM Accuracy: 0.9\n",
      "DT Accuracy: 0.8\n",
      "NN Accuracy: 1.0\n"
     ]
    }
   ],
   "source": [
    "# Create a DataFrame for the predictions\n",
    "predictions_df = pd.DataFrame({'SVM Predictions': svm_predictions,\n",
    "                               'DT Predictions': dt_predictions,\n",
    "                               'NN Predictions': nn_predictions,\n",
    "                               'Actual': y_true})\n",
    "\n",
    "# Add a column to indicate incorrect predictions\n",
    "predictions_df['SVM Correct'] = predictions_df['SVM Predictions'] == predictions_df['Actual']\n",
    "predictions_df['DT Correct'] = predictions_df['DT Predictions'] == predictions_df['Actual']\n",
    "predictions_df['NN Correct'] = predictions_df['NN Predictions'] == predictions_df['Actual']\n",
    "\n",
    "# Calculate accuracy for each model\n",
    "svm_accuracy = predictions_df['SVM Correct'].mean()\n",
    "dt_accuracy = predictions_df['DT Correct'].mean()\n",
    "nn_accuracy = predictions_df['NN Correct'].mean()\n",
    "\n",
    "# Print the comparison table and accuracy\n",
    "print(\"Comparison Table:\")\n",
    "print(predictions_df)\n",
    "print(\"\\nAccuracy:\")\n",
    "print(\"SVM Accuracy:\", svm_accuracy)\n",
    "print(\"DT Accuracy:\", dt_accuracy)\n",
    "print(\"NN Accuracy:\", nn_accuracy)"
   ]
  },
  {
   "cell_type": "code",
   "execution_count": null,
   "id": "c3b28364",
   "metadata": {},
   "outputs": [],
   "source": []
  }
 ],
 "metadata": {
  "kernelspec": {
   "display_name": "Python 3 (ipykernel)",
   "language": "python",
   "name": "python3"
  },
  "language_info": {
   "codemirror_mode": {
    "name": "ipython",
    "version": 3
   },
   "file_extension": ".py",
   "mimetype": "text/x-python",
   "name": "python",
   "nbconvert_exporter": "python",
   "pygments_lexer": "ipython3",
   "version": "3.9.7"
  }
 },
 "nbformat": 4,
 "nbformat_minor": 5
}
