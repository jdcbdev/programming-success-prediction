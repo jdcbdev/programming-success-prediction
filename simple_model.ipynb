{
 "cells": [
  {
   "cell_type": "code",
   "execution_count": 1,
   "id": "15eac188",
   "metadata": {},
   "outputs": [],
   "source": [
    "import pandas as pd\n",
    "from sklearn.model_selection import train_test_split\n",
    "from sklearn.svm import SVC\n",
    "from sklearn.tree import DecisionTreeClassifier\n",
    "from sklearn.neural_network import MLPClassifier\n",
    "from sklearn.metrics import classification_report, roc_auc_score\n",
    "from sklearn.inspection import permutation_importance\n",
    "from sklearn.model_selection import cross_val_score, KFold\n",
    "\n",
    "# Load the dataset\n",
    "data = pd.read_csv('./data/augmented_data.csv')\n",
    "\n",
    "# Separate the features and the target variable\n",
    "X = data.drop('success', axis=1)\n",
    "y = data['success']"
   ]
  },
  {
   "cell_type": "code",
   "execution_count": 2,
   "id": "fdc2fe4b",
   "metadata": {},
   "outputs": [
    {
     "name": "stderr",
     "output_type": "stream",
     "text": [
      "C:\\Users\\Jaydee\\anaconda3\\lib\\site-packages\\sklearn\\neural_network\\_multilayer_perceptron.py:614: ConvergenceWarning: Stochastic Optimizer: Maximum iterations (200) reached and the optimization hasn't converged yet.\n",
      "  warnings.warn(\n",
      "C:\\Users\\Jaydee\\anaconda3\\lib\\site-packages\\sklearn\\neural_network\\_multilayer_perceptron.py:614: ConvergenceWarning: Stochastic Optimizer: Maximum iterations (200) reached and the optimization hasn't converged yet.\n",
      "  warnings.warn(\n",
      "C:\\Users\\Jaydee\\anaconda3\\lib\\site-packages\\sklearn\\neural_network\\_multilayer_perceptron.py:614: ConvergenceWarning: Stochastic Optimizer: Maximum iterations (200) reached and the optimization hasn't converged yet.\n",
      "  warnings.warn(\n",
      "C:\\Users\\Jaydee\\anaconda3\\lib\\site-packages\\sklearn\\neural_network\\_multilayer_perceptron.py:614: ConvergenceWarning: Stochastic Optimizer: Maximum iterations (200) reached and the optimization hasn't converged yet.\n",
      "  warnings.warn(\n",
      "C:\\Users\\Jaydee\\anaconda3\\lib\\site-packages\\sklearn\\neural_network\\_multilayer_perceptron.py:614: ConvergenceWarning: Stochastic Optimizer: Maximum iterations (200) reached and the optimization hasn't converged yet.\n",
      "  warnings.warn(\n"
     ]
    },
    {
     "name": "stdout",
     "output_type": "stream",
     "text": [
      "Evaluation Metrics:\n",
      "            Model  CV Accuracy  Accuracy  F1-Score  Precision    Recall  \\\n",
      "0             SVM     0.742385  0.818182  0.817717   0.818182  0.821462   \n",
      "1   Decision Tree     0.746167  0.787879  0.787792   0.792012  0.793939   \n",
      "2  Neural Network     0.881267  0.934343  0.933964   0.932897  0.936244   \n",
      "\n",
      "        AUC  \n",
      "0  0.821462  \n",
      "1  0.793939  \n",
      "2  0.936244  \n"
     ]
    },
    {
     "name": "stderr",
     "output_type": "stream",
     "text": [
      "C:\\Users\\Jaydee\\anaconda3\\lib\\site-packages\\sklearn\\neural_network\\_multilayer_perceptron.py:614: ConvergenceWarning: Stochastic Optimizer: Maximum iterations (200) reached and the optimization hasn't converged yet.\n",
      "  warnings.warn(\n"
     ]
    }
   ],
   "source": [
    "# Split the dataset into training and testing sets\n",
    "X_train, X_test, y_train, y_test = train_test_split(X, y, test_size=0.2, random_state=42)\n",
    "\n",
    "# Define the number of folds for cross-validation\n",
    "k = 5\n",
    "\n",
    "# Create a k-fold cross-validation object\n",
    "kf = KFold(n_splits=k, shuffle=True, random_state=42)\n",
    "\n",
    "# Support Vector Machine (SVM) model\n",
    "svm_model = SVC(kernel='linear')\n",
    "svm_cv_scores = cross_val_score(svm_model, X_train, y_train, cv=kf)  # Perform k-fold cross-validation\n",
    "svm_accuracy = svm_cv_scores.mean()\n",
    "\n",
    "# Decision Tree (DT) model\n",
    "dt_model = DecisionTreeClassifier()\n",
    "dt_cv_scores = cross_val_score(dt_model, X_train, y_train, cv=kf)  # Perform k-fold cross-validation\n",
    "dt_accuracy = dt_cv_scores.mean()\n",
    "\n",
    "# Neural Network (NN) model\n",
    "nn_model = MLPClassifier()\n",
    "nn_cv_scores = cross_val_score(nn_model, X_train, y_train, cv=kf)  # Perform k-fold cross-validation\n",
    "nn_accuracy = nn_cv_scores.mean()\n",
    "\n",
    "# Train the models on the full training set\n",
    "svm_model.fit(X_train, y_train)\n",
    "dt_model.fit(X_train, y_train)\n",
    "nn_model.fit(X_train, y_train)\n",
    "\n",
    "# Make predictions on the test set\n",
    "svm_predictions = svm_model.predict(X_test)\n",
    "dt_predictions = dt_model.predict(X_test)\n",
    "nn_predictions = nn_model.predict(X_test)\n",
    "\n",
    "# Calculate evaluation metrics\n",
    "svm_report = classification_report(y_test, svm_predictions, output_dict=True)\n",
    "svm_auc = roc_auc_score(y_test, svm_predictions)\n",
    "\n",
    "dt_report = classification_report(y_test, dt_predictions, output_dict=True)\n",
    "dt_auc = roc_auc_score(y_test, dt_predictions)\n",
    "\n",
    "nn_report = classification_report(y_test, nn_predictions, output_dict=True)\n",
    "nn_auc = roc_auc_score(y_test, nn_predictions)\n",
    "\n",
    "# Create a DataFrame for the results\n",
    "results_df = pd.DataFrame({\n",
    "    'Model': ['SVM', 'Decision Tree', 'Neural Network'],\n",
    "    'CV Accuracy': [svm_accuracy, dt_accuracy, nn_accuracy],\n",
    "    'Accuracy': [svm_model.score(X_test, y_test), dt_model.score(X_test, y_test), nn_model.score(X_test, y_test)],\n",
    "    'F1-Score': [svm_report['macro avg']['f1-score'], dt_report['macro avg']['f1-score'], nn_report['macro avg']['f1-score']],\n",
    "    'Precision': [svm_report['macro avg']['precision'], dt_report['macro avg']['precision'], nn_report['macro avg']['precision']],\n",
    "    'Recall': [svm_report['macro avg']['recall'], dt_report['macro avg']['recall'], nn_report['macro avg']['recall']],\n",
    "    'AUC': [svm_auc, dt_auc, nn_auc]\n",
    "})\n",
    "\n",
    "# Print the results\n",
    "print(\"Evaluation Metrics:\")\n",
    "print(results_df)\n"
   ]
  },
  {
   "cell_type": "code",
   "execution_count": 3,
   "id": "ff3e0ae3",
   "metadata": {},
   "outputs": [
    {
     "name": "stdout",
     "output_type": "stream",
     "text": [
      "Top 10 Feature Importances (SVM Linear):\n",
      "                                               Feature  SVM Importance\n",
      "92   classroom_org_I forgot already, might be just ...        1.676340\n",
      "166                                       s25_Leave it        1.427534\n",
      "72                   program_BS Information Technology        1.397573\n",
      "151                         mothers_employment_Retired        1.340495\n",
      "108                         school_org_Project Manager        1.312652\n",
      "157                         income_P50,000 to P100,000        1.267727\n",
      "102                                 school_org_Auditor        1.239745\n",
      "145      mothers_employment_Disabled, not able to work        1.233484\n",
      "139  mothers_education_Not Applicable (no work, not...        1.231842\n",
      "174                          s26_More than 4 hours/day        1.177111\n"
     ]
    }
   ],
   "source": [
    "# Obtain feature importances for linear SVM model\n",
    "svm_feature_importances = abs(svm_model.coef_[0])\n",
    "\n",
    "# Create a DataFrame for feature importances\n",
    "importances_df = pd.DataFrame({\n",
    "    'Feature': X_train.columns,\n",
    "    'SVM Importance': svm_feature_importances\n",
    "})\n",
    "\n",
    "# Sort the DataFrame by SVM Importance values in descending order\n",
    "importances_df = importances_df.sort_values(by='SVM Importance', ascending=False)\n",
    "\n",
    "# Display the top 10 feature importances\n",
    "top_10_importances = importances_df.head(10)\n",
    "print(\"Top 10 Feature Importances (SVM Linear):\")\n",
    "print(top_10_importances)"
   ]
  },
  {
   "cell_type": "code",
   "execution_count": 4,
   "id": "7043303a",
   "metadata": {},
   "outputs": [
    {
     "name": "stdout",
     "output_type": "stream",
     "text": [
      "DT Top 10 Feature Importances:\n",
      "     Feature  Importance\n",
      "65       s19    0.072260\n",
      "6    shs_gpa    0.057699\n",
      "7         p1    0.040422\n",
      "1    english    0.039387\n",
      "3    science    0.038781\n",
      "2    reading    0.036118\n",
      "29       p23    0.035834\n",
      "61       s15    0.035396\n",
      "43       p37    0.032524\n",
      "5   abstract    0.030400\n"
     ]
    }
   ],
   "source": [
    "# Create a DataFrame for feature importances\n",
    "importances_df = pd.DataFrame({\n",
    "    'Feature': X_train.columns,\n",
    "    'Importance': dt_model.feature_importances_\n",
    "})\n",
    "\n",
    "# Sort the DataFrame by importance values in descending order\n",
    "importances_df = importances_df.sort_values(by='Importance', ascending=False)\n",
    "\n",
    "# Display the top 10 feature importances\n",
    "top_10_importances = importances_df.head(10)\n",
    "print(\"DT Top 10 Feature Importances:\")\n",
    "print(top_10_importances)"
   ]
  },
  {
   "cell_type": "code",
   "execution_count": 5,
   "id": "b8cb4a1c",
   "metadata": {},
   "outputs": [
    {
     "name": "stdout",
     "output_type": "stream",
     "text": [
      "Top 10 Feature Importances (Neural Network):\n",
      "                        Feature  NN Importance\n",
      "49                           s3       0.030415\n",
      "36                          p30       0.022564\n",
      "40                          p34       0.020094\n",
      "67                          s21       0.017994\n",
      "71  program_BS Computer Science       0.017732\n",
      "25                          p19       0.017372\n",
      "34                          p28       0.016591\n",
      "5                      abstract       0.015354\n",
      "84            class_rank_Top 20       0.015343\n",
      "46                          p40       0.014003\n"
     ]
    }
   ],
   "source": [
    "# Obtain feature importances for Neural Network model\n",
    "nn_feature_importances = abs(nn_model.coefs_[0].mean(axis=0))\n",
    "\n",
    "# Create a DataFrame for feature importances\n",
    "importances_df = pd.DataFrame({\n",
    "    'Feature': X_train.columns[:len(nn_feature_importances)],\n",
    "    'NN Importance': nn_feature_importances\n",
    "})\n",
    "\n",
    "# Sort the DataFrame by NN Importance values in descending order\n",
    "importances_df = importances_df.sort_values(by='NN Importance', ascending=False)\n",
    "\n",
    "# Display the top 10 feature importances\n",
    "top_10_importances = importances_df.head(10)\n",
    "print(\"Top 10 Feature Importances (Neural Network):\")\n",
    "print(top_10_importances)"
   ]
  },
  {
   "cell_type": "code",
   "execution_count": 6,
   "id": "c4452835",
   "metadata": {},
   "outputs": [],
   "source": [
    "# Load the test dataset\n",
    "new_data = pd.read_csv('./data/testing.csv')\n",
    "\n",
    "# Separate the features\n",
    "X_new = new_data.drop('success', axis=1)\n",
    "y_true = new_data['success']\n",
    "\n",
    "# Predict using the SVM model\n",
    "svm_predictions = svm_model.predict(X_new)\n",
    "\n",
    "# Predict using the Decision Tree model\n",
    "dt_predictions = dt_model.predict(X_new)\n",
    "\n",
    "# Predict using the Neural Network model\n",
    "nn_predictions = nn_model.predict(X_new)"
   ]
  },
  {
   "cell_type": "code",
   "execution_count": 7,
   "id": "555957bc",
   "metadata": {},
   "outputs": [
    {
     "name": "stdout",
     "output_type": "stream",
     "text": [
      "Comparison Table:\n",
      "   SVM Predictions  DT Predictions  NN Predictions  Actual  SVM Correct  \\\n",
      "0                1               1               1       1         True   \n",
      "1                0               0               0       0         True   \n",
      "2                0               0               0       0         True   \n",
      "3                0               1               1       1        False   \n",
      "4                0               0               0       0         True   \n",
      "5                1               0               1       1         True   \n",
      "6                0               0               0       0         True   \n",
      "7                1               1               1       1         True   \n",
      "8                1               1               0       0        False   \n",
      "9                1               1               1       1         True   \n",
      "\n",
      "   DT Correct  NN Correct  \n",
      "0        True        True  \n",
      "1        True        True  \n",
      "2        True        True  \n",
      "3        True        True  \n",
      "4        True        True  \n",
      "5       False        True  \n",
      "6        True        True  \n",
      "7        True        True  \n",
      "8       False        True  \n",
      "9        True        True  \n",
      "\n",
      "Accuracy:\n",
      "SVM Accuracy: 0.8\n",
      "DT Accuracy: 0.8\n",
      "NN Accuracy: 1.0\n"
     ]
    }
   ],
   "source": [
    "# Create a DataFrame for the predictions\n",
    "predictions_df = pd.DataFrame({'SVM Predictions': svm_predictions,\n",
    "                               'DT Predictions': dt_predictions,\n",
    "                               'NN Predictions': nn_predictions,\n",
    "                               'Actual': y_true})\n",
    "\n",
    "# Add a column to indicate incorrect predictions\n",
    "predictions_df['SVM Correct'] = predictions_df['SVM Predictions'] == predictions_df['Actual']\n",
    "predictions_df['DT Correct'] = predictions_df['DT Predictions'] == predictions_df['Actual']\n",
    "predictions_df['NN Correct'] = predictions_df['NN Predictions'] == predictions_df['Actual']\n",
    "\n",
    "# Calculate accuracy for each model\n",
    "svm_accuracy = predictions_df['SVM Correct'].mean()\n",
    "dt_accuracy = predictions_df['DT Correct'].mean()\n",
    "nn_accuracy = predictions_df['NN Correct'].mean()\n",
    "\n",
    "# Print the comparison table and accuracy\n",
    "print(\"Comparison Table:\")\n",
    "print(predictions_df)\n",
    "print(\"\\nAccuracy:\")\n",
    "print(\"SVM Accuracy:\", svm_accuracy)\n",
    "print(\"DT Accuracy:\", dt_accuracy)\n",
    "print(\"NN Accuracy:\", nn_accuracy)"
   ]
  },
  {
   "cell_type": "code",
   "execution_count": null,
   "id": "d63bd798",
   "metadata": {},
   "outputs": [],
   "source": []
  }
 ],
 "metadata": {
  "kernelspec": {
   "display_name": "Python 3 (ipykernel)",
   "language": "python",
   "name": "python3"
  },
  "language_info": {
   "codemirror_mode": {
    "name": "ipython",
    "version": 3
   },
   "file_extension": ".py",
   "mimetype": "text/x-python",
   "name": "python",
   "nbconvert_exporter": "python",
   "pygments_lexer": "ipython3",
   "version": "3.9.7"
  }
 },
 "nbformat": 4,
 "nbformat_minor": 5
}
