{
 "cells": [
  {
   "cell_type": "code",
   "execution_count": 1,
   "id": "15eac188",
   "metadata": {},
   "outputs": [],
   "source": [
    "import pandas as pd\n",
    "from sklearn.model_selection import train_test_split\n",
    "from sklearn.svm import SVC\n",
    "from sklearn.tree import DecisionTreeClassifier\n",
    "from sklearn.neural_network import MLPClassifier\n",
    "from sklearn.metrics import classification_report, roc_auc_score\n",
    "from sklearn.inspection import permutation_importance\n",
    "\n",
    "# Load the dataset\n",
    "data = pd.read_csv('./data/augmented_data.csv')\n",
    "\n",
    "# Separate the features and the target variable\n",
    "X = data.drop('success', axis=1)\n",
    "y = data['success']"
   ]
  },
  {
   "cell_type": "code",
   "execution_count": 2,
   "id": "35c1d7f1",
   "metadata": {},
   "outputs": [
    {
     "name": "stdout",
     "output_type": "stream",
     "text": [
      "Evaluation Metrics:\n",
      "            Model  Accuracy  F1-Score  Precision    Recall       AUC\n",
      "0             SVM     0.765  0.764947   0.767669  0.768720  0.768720\n",
      "1   Decision Tree     0.815  0.814215   0.813784  0.815016  0.815016\n",
      "2  Neural Network     0.925  0.924848   0.924642  0.927335  0.927335\n"
     ]
    },
    {
     "name": "stderr",
     "output_type": "stream",
     "text": [
      "C:\\Users\\Jaydee\\anaconda3\\lib\\site-packages\\sklearn\\neural_network\\_multilayer_perceptron.py:614: ConvergenceWarning: Stochastic Optimizer: Maximum iterations (200) reached and the optimization hasn't converged yet.\n",
      "  warnings.warn(\n"
     ]
    }
   ],
   "source": [
    "# Split the dataset into training and testing sets\n",
    "X_train, X_test, y_train, y_test = train_test_split(X, y, test_size=0.2, random_state=42)\n",
    "\n",
    "# Support Vector Machine (SVM) model\n",
    "svm_model = SVC(kernel='linear')\n",
    "svm_model.fit(X_train, y_train)\n",
    "svm_predictions = svm_model.predict(X_test)\n",
    "\n",
    "# Decision Tree (DT) model\n",
    "dt_model = DecisionTreeClassifier()\n",
    "dt_model.fit(X_train, y_train)\n",
    "dt_predictions = dt_model.predict(X_test)\n",
    "\n",
    "# Neural Network (NN) model\n",
    "nn_model = MLPClassifier()\n",
    "nn_model.fit(X_train, y_train)\n",
    "nn_predictions = nn_model.predict(X_test)\n",
    "\n",
    "# Calculate evaluation metrics\n",
    "svm_report = classification_report(y_test, svm_predictions, output_dict=True)\n",
    "svm_auc = roc_auc_score(y_test, svm_predictions)\n",
    "\n",
    "dt_report = classification_report(y_test, dt_predictions, output_dict=True)\n",
    "dt_auc = roc_auc_score(y_test, dt_predictions)\n",
    "\n",
    "nn_report = classification_report(y_test, nn_predictions, output_dict=True)\n",
    "nn_auc = roc_auc_score(y_test, nn_predictions)\n",
    "\n",
    "# Create a DataFrame for the results\n",
    "results_df = pd.DataFrame({\n",
    "    'Model': ['SVM', 'Decision Tree', 'Neural Network'],\n",
    "    'Accuracy': [svm_model.score(X_test, y_test), dt_model.score(X_test, y_test), nn_model.score(X_test, y_test)],\n",
    "    'F1-Score': [svm_report['macro avg']['f1-score'], dt_report['macro avg']['f1-score'], nn_report['macro avg']['f1-score']],\n",
    "    'Precision': [svm_report['macro avg']['precision'], dt_report['macro avg']['precision'], nn_report['macro avg']['precision']],\n",
    "    'Recall': [svm_report['macro avg']['recall'], dt_report['macro avg']['recall'], nn_report['macro avg']['recall']],\n",
    "    'AUC': [svm_auc, dt_auc, nn_auc]\n",
    "})\n",
    "\n",
    "# Print the results\n",
    "print(\"Evaluation Metrics:\")\n",
    "print(results_df)"
   ]
  },
  {
   "cell_type": "code",
   "execution_count": 3,
   "id": "e9dd78cc",
   "metadata": {},
   "outputs": [
    {
     "name": "stdout",
     "output_type": "stream",
     "text": [
      "DT Top 10 Feature Importances:\n",
      "                                               Feature  Importance\n",
      "5                                             abstract    0.102404\n",
      "3                                              science    0.061057\n",
      "64                                                 s18    0.055970\n",
      "0                                             cet_oapr    0.035806\n",
      "59                                                 s13    0.033132\n",
      "13                                                  p7    0.032185\n",
      "23                                                 p17    0.031270\n",
      "26                                                 p20    0.030766\n",
      "45                                                 p39    0.028481\n",
      "148  mothers_employment_Not employed, looking for work    0.026764\n"
     ]
    }
   ],
   "source": [
    "# Create a DataFrame for feature importances\n",
    "importances_df = pd.DataFrame({\n",
    "    'Feature': X_train.columns,\n",
    "    'Importance': dt_model.feature_importances_\n",
    "})\n",
    "\n",
    "# Sort the DataFrame by importance values in descending order\n",
    "importances_df = importances_df.sort_values(by='Importance', ascending=False)\n",
    "\n",
    "# Display the top 10 feature importances\n",
    "top_10_importances = importances_df.head(10)\n",
    "print(\"DT Top 10 Feature Importances:\")\n",
    "print(top_10_importances)"
   ]
  },
  {
   "cell_type": "code",
   "execution_count": 4,
   "id": "8544ac27",
   "metadata": {},
   "outputs": [
    {
     "name": "stdout",
     "output_type": "stream",
     "text": [
      "Top 10 Feature Importances (SVM Linear):\n",
      "                                               Feature  SVM Importance\n",
      "152                               income_Below P10,000        2.929409\n",
      "172     s26_More than 30 min. but less than 1 hour/day        1.745363\n",
      "92                                  classroom_org_Muse        1.443935\n",
      "122     fathers_education_Some high school, no diploma        1.410439\n",
      "144      mothers_employment_Disabled, not able to work        1.396722\n",
      "118  fathers_education_Not Applicable (no work, not...        1.342237\n",
      "136                  mothers_education_Master’s degree        1.159210\n",
      "98                             classroom_org_Secretary        1.144344\n",
      "164                      s25_Ask my teachers at school        1.098102\n",
      "174                           s26_Up to 30 minutes/day        1.082468\n"
     ]
    }
   ],
   "source": [
    "# Obtain feature importances for linear SVM model\n",
    "svm_feature_importances = abs(svm_model.coef_[0])\n",
    "\n",
    "# Create a DataFrame for feature importances\n",
    "importances_df = pd.DataFrame({\n",
    "    'Feature': X_train.columns,\n",
    "    'SVM Importance': svm_feature_importances\n",
    "})\n",
    "\n",
    "# Sort the DataFrame by SVM Importance values in descending order\n",
    "importances_df = importances_df.sort_values(by='SVM Importance', ascending=False)\n",
    "\n",
    "# Display the top 10 feature importances\n",
    "top_10_importances = importances_df.head(10)\n",
    "print(\"Top 10 Feature Importances (SVM Linear):\")\n",
    "print(top_10_importances)"
   ]
  },
  {
   "cell_type": "code",
   "execution_count": 5,
   "id": "28f576e0",
   "metadata": {},
   "outputs": [
    {
     "name": "stdout",
     "output_type": "stream",
     "text": [
      "Top 10 Feature Importances (Neural Network):\n",
      "                       Feature  NN Importance\n",
      "66                         s20       0.033163\n",
      "80               strand_TVL-HE       0.027310\n",
      "17                         p11       0.025010\n",
      "94           classroom_org_PIO       0.022386\n",
      "2                      reading       0.022123\n",
      "75              strand_ABM/BAM       0.021315\n",
      "89  academic_awards_With Honor       0.019799\n",
      "51                          s5       0.018868\n",
      "73                  sex_Female       0.017524\n",
      "9                           p3       0.017156\n"
     ]
    }
   ],
   "source": [
    "# Obtain feature importances for Neural Network model\n",
    "nn_feature_importances = abs(nn_model.coefs_[0].mean(axis=0))\n",
    "\n",
    "# Create a DataFrame for feature importances\n",
    "importances_df = pd.DataFrame({\n",
    "    'Feature': X_train.columns[:len(nn_feature_importances)],\n",
    "    'NN Importance': nn_feature_importances\n",
    "})\n",
    "\n",
    "# Sort the DataFrame by NN Importance values in descending order\n",
    "importances_df = importances_df.sort_values(by='NN Importance', ascending=False)\n",
    "\n",
    "# Display the top 10 feature importances\n",
    "top_10_importances = importances_df.head(10)\n",
    "print(\"Top 10 Feature Importances (Neural Network):\")\n",
    "print(top_10_importances)"
   ]
  },
  {
   "cell_type": "code",
   "execution_count": 6,
   "id": "80cb02e2",
   "metadata": {},
   "outputs": [],
   "source": [
    "# Load the test dataset\n",
    "new_data = pd.read_csv('./data/testing.csv')\n",
    "\n",
    "# Separate the features\n",
    "X_new = new_data.drop('success', axis=1)\n",
    "y_true = new_data['success']\n",
    "\n",
    "# Predict using the SVM model\n",
    "svm_predictions = svm_model.predict(X_new)\n",
    "\n",
    "# Predict using the Decision Tree model\n",
    "dt_predictions = dt_model.predict(X_new)\n",
    "\n",
    "# Predict using the Neural Network model\n",
    "nn_predictions = nn_model.predict(X_new)"
   ]
  },
  {
   "cell_type": "code",
   "execution_count": 7,
   "id": "b1166644",
   "metadata": {},
   "outputs": [
    {
     "name": "stdout",
     "output_type": "stream",
     "text": [
      "Comparison Table:\n",
      "   SVM Predictions  DT Predictions  NN Predictions  Actual  SVM Correct  \\\n",
      "0                1               1               1       1         True   \n",
      "1                0               0               0       0         True   \n",
      "2                0               0               0       0         True   \n",
      "3                1               1               1       1         True   \n",
      "4                0               0               0       0         True   \n",
      "5                1               1               1       1         True   \n",
      "6                0               0               0       0         True   \n",
      "7                1               1               1       1         True   \n",
      "8                0               0               0       0         True   \n",
      "9                1               1               1       1         True   \n",
      "\n",
      "   DT Correct  NN Correct  \n",
      "0        True        True  \n",
      "1        True        True  \n",
      "2        True        True  \n",
      "3        True        True  \n",
      "4        True        True  \n",
      "5        True        True  \n",
      "6        True        True  \n",
      "7        True        True  \n",
      "8        True        True  \n",
      "9        True        True  \n",
      "\n",
      "Accuracy:\n",
      "SVM Accuracy: 1.0\n",
      "DT Accuracy: 1.0\n",
      "NN Accuracy: 1.0\n"
     ]
    }
   ],
   "source": [
    "# Create a DataFrame for the predictions\n",
    "predictions_df = pd.DataFrame({'SVM Predictions': svm_predictions,\n",
    "                               'DT Predictions': dt_predictions,\n",
    "                               'NN Predictions': nn_predictions,\n",
    "                               'Actual': y_true})\n",
    "\n",
    "# Add a column to indicate incorrect predictions\n",
    "predictions_df['SVM Correct'] = predictions_df['SVM Predictions'] == predictions_df['Actual']\n",
    "predictions_df['DT Correct'] = predictions_df['DT Predictions'] == predictions_df['Actual']\n",
    "predictions_df['NN Correct'] = predictions_df['NN Predictions'] == predictions_df['Actual']\n",
    "\n",
    "# Calculate accuracy for each model\n",
    "svm_accuracy = predictions_df['SVM Correct'].mean()\n",
    "dt_accuracy = predictions_df['DT Correct'].mean()\n",
    "nn_accuracy = predictions_df['NN Correct'].mean()\n",
    "\n",
    "# Print the comparison table and accuracy\n",
    "print(\"Comparison Table:\")\n",
    "print(predictions_df)\n",
    "print(\"\\nAccuracy:\")\n",
    "print(\"SVM Accuracy:\", svm_accuracy)\n",
    "print(\"DT Accuracy:\", dt_accuracy)\n",
    "print(\"NN Accuracy:\", nn_accuracy)"
   ]
  },
  {
   "cell_type": "code",
   "execution_count": null,
   "id": "2970f28e",
   "metadata": {},
   "outputs": [],
   "source": []
  }
 ],
 "metadata": {
  "kernelspec": {
   "display_name": "Python 3 (ipykernel)",
   "language": "python",
   "name": "python3"
  },
  "language_info": {
   "codemirror_mode": {
    "name": "ipython",
    "version": 3
   },
   "file_extension": ".py",
   "mimetype": "text/x-python",
   "name": "python",
   "nbconvert_exporter": "python",
   "pygments_lexer": "ipython3",
   "version": "3.9.7"
  }
 },
 "nbformat": 4,
 "nbformat_minor": 5
}
